{
 "cells": [
  {
   "cell_type": "markdown",
   "metadata": {},
   "source": [
    "# JPEG Coding Project\n",
    "####  Nov.2020\n",
    "####  Mersap Group"
   ]
  },
  {
   "cell_type": "code",
   "execution_count": 19,
   "metadata": {},
   "outputs": [],
   "source": [
    "# --- importing pakages\n",
    "import numpy as np\n",
    "import cv2\n",
    "from matplotlib import pyplot as plt"
   ]
  },
  {
   "cell_type": "markdown",
   "metadata": {},
   "source": [
    "![](jpeg-encoder.jpg)"
   ]
  },
  {
   "cell_type": "code",
   "execution_count": 20,
   "metadata": {},
   "outputs": [],
   "source": [
    "# --- reading image\n",
    "img = cv2.imread(\"lenna.png\")\n",
    "\n",
    "# --- resize image\n",
    "img = cv2.resize(img, (128, 128))"
   ]
  },
  {
   "cell_type": "code",
   "execution_count": 21,
   "metadata": {},
   "outputs": [],
   "source": [
    "# --- getting YCbCr and select Luminance for first time\n",
    "img_ycrcb = cv2.cvtColor(img, cv2.COLOR_BGR2YCrCb)\n",
    "y = img_ycrcb[:, :, 0]\n",
    "cr = img_ycrcb[:, :, 1]\n",
    "cb = img_ycrcb[:, :, 2]\n"
   ]
  },
  {
   "cell_type": "markdown",
   "metadata": {},
   "source": [
    "### 1.Blocking"
   ]
  },
  {
   "cell_type": "code",
   "execution_count": 22,
   "metadata": {},
   "outputs": [],
   "source": [
    "# --- get 8*8 block of luminance and saved it in result\n",
    "# --- and Make a DCT of each of this blocks\n",
    "rows = np.shape(y)[0]\n",
    "cols = np.shape(y)[1]\n",
    "num = int(rows/8 * cols/8)\n",
    "result = np.zeros((num, 8, 8))\n",
    "\n",
    "\n",
    "for i in range(int(cols/8)):\n",
    "    for j in range(int(rows/8)):\n",
    "        result[i*int(rows/8)+j ,:,:] = y[j+j*7:j+j*7+7+1,i+i*7:i+i*7+7+1]\n"
   ]
  },
  {
   "cell_type": "markdown",
   "metadata": {},
   "source": [
    "### 2.DCT"
   ]
  },
  {
   "cell_type": "code",
   "execution_count": 23,
   "metadata": {},
   "outputs": [],
   "source": [
    "# --- Make DCT of each block \n",
    "result_DCT = np.zeros((num, 8, 8))\n",
    "for i in range(num):\n",
    "    result_DCT[i,:,:] = cv2.dct(result[i,:,:])"
   ]
  },
  {
   "cell_type": "markdown",
   "metadata": {},
   "source": [
    "### 3.Define Quatizing Coeff and Quntize each blocks"
   ]
  },
  {
   "cell_type": "code",
   "execution_count": 24,
   "metadata": {},
   "outputs": [],
   "source": [
    "# --- define Quantize Matrix\n",
    "Coeff = np.array([[16, 11, 10, 16, 24, 40, 51, 61],\n",
    "                  [12, 12, 14, 19, 26, 58, 60, 55],\n",
    "                  [14, 13, 16, 24, 40, 57, 69, 56],\n",
    "                  [14, 17, 22, 29, 51, 87, 80, 62],\n",
    "                  [18, 22, 37, 56, 68, 109, 103, 77],\n",
    "                  [24, 35, 55, 64, 81, 104, 113, 92],\n",
    "                  [49, 64, 78, 87, 103, 121, 120, 101],\n",
    "                  [72, 92, 95, 98, 112, 100, 103, 99]\n",
    "                 ])"
   ]
  },
  {
   "cell_type": "code",
   "execution_count": 25,
   "metadata": {},
   "outputs": [],
   "source": [
    "# --- Quantizing all 8*8 blocks\n",
    "quatized_result = np.zeros((num, 8, 8))\n",
    "for i in range(num):\n",
    "    quatized_result[i,:,:] = np.int_(result_DCT[i,:,:] / Coeff)"
   ]
  },
  {
   "cell_type": "code",
   "execution_count": 26,
   "metadata": {},
   "outputs": [
    {
     "data": {
      "text/plain": [
       "array([[78.,  4., -2., -1.,  0.,  0.,  0.,  0.],\n",
       "       [ 4., -5.,  0.,  1.,  0.,  0.,  0.,  0.],\n",
       "       [-1.,  0.,  1.,  0.,  0.,  0.,  0.,  0.],\n",
       "       [ 0.,  0.,  0.,  0.,  0.,  0.,  0.,  0.],\n",
       "       [ 0.,  0.,  0.,  0.,  0.,  0.,  0.,  0.],\n",
       "       [ 0.,  0.,  0.,  0.,  0.,  0.,  0.,  0.],\n",
       "       [ 0.,  0.,  0.,  0.,  0.,  0.,  0.,  0.],\n",
       "       [ 0.,  0.,  0.,  0.,  0.,  0.,  0.,  0.]])"
      ]
     },
     "execution_count": 26,
     "metadata": {},
     "output_type": "execute_result"
    }
   ],
   "source": [
    "# --- for tesing show a block\n",
    "quatized_result[1,:,:]"
   ]
  },
  {
   "cell_type": "markdown",
   "metadata": {},
   "source": [
    "### 4.ZigZap "
   ]
  },
  {
   "cell_type": "code",
   "execution_count": 27,
   "metadata": {},
   "outputs": [],
   "source": [
    "# --- define a function that make stream data in ZigZag way of 8*8 bloks\n",
    "def zigzag(mat):\n",
    "    out = np.array((1,64))\n",
    "    out = [mat[0,0], mat[0,1], mat[1,0], mat[2,0],\n",
    "           mat[1,1], mat[0,2], mat[0,3], mat[1,2],\n",
    "           mat[2,1], mat[3,0], mat[4,0], mat[3,1],\n",
    "           mat[2,2], mat[1,3], mat[0,4], mat[0,5],\n",
    "           mat[1,4], mat[2,3], mat[3,2], mat[4,1],\n",
    "           mat[5,0], mat[6,0], mat[5,1], mat[4,2],\n",
    "           mat[3,3], mat[2,4], mat[1,5], mat[0,6],\n",
    "           mat[0,7], mat[1,6], mat[2,5], mat[3,4],\n",
    "           mat[4,3], mat[5,2], mat[6,1], mat[7,0],\n",
    "           mat[7,1], mat[6,2], mat[5,3], mat[4,4],\n",
    "           mat[3,5], mat[2,6], mat[1,7], mat[2,7],\n",
    "           mat[3,6], mat[4,5], mat[5,4], mat[6,3],\n",
    "           mat[7,2], mat[7,3], mat[6,4], mat[5,5],\n",
    "           mat[4,6], mat[3,7], mat[4,7], mat[5,6],\n",
    "           mat[6,5], mat[7,4], mat[7,5], mat[6,6],\n",
    "           mat[5,7], mat[6,7], mat[7,6], mat[7,7],\n",
    "          ]\n",
    "    return out\n",
    "\n",
    "def izigzag(numbers):\n",
    "    mat = np.zeros((8,8))\n",
    "    mat[0,0] = numbers[0]  ; mat[0,1] = numbers[1]  ; mat[1,0] = numbers[2]  ; mat[2,0] = numbers[3]  ;\n",
    "    mat[1,1] = numbers[4]  ; mat[0,2] = numbers[5]  ; mat[0,3] = numbers[6]  ; mat[1,2] = numbers[7]  ;\n",
    "    mat[2,1] = numbers[8]  ; mat[3,0] = numbers[9]  ; mat[4,0] = numbers[10] ; mat[3,1] = numbers[11] ;\n",
    "    mat[2,2] = numbers[12] ; mat[1,3] = numbers[13] ; mat[0,4] = numbers[14] ; mat[0,5] = numbers[15] ;\n",
    "    mat[1,4] = numbers[16] ; mat[2,3] = numbers[17] ; mat[3,2] = numbers[18] ; mat[4,1] = numbers[19] ;\n",
    "    mat[5,0] = numbers[20] ; mat[6,0] = numbers[21] ; mat[5,1] = numbers[22] ; mat[4,2] = numbers[23] ;\n",
    "    mat[3,3] = numbers[24] ; mat[2,4] = numbers[25] ; mat[1,5] = numbers[26] ; mat[0,6] = numbers[27] ;\n",
    "    mat[0,7] = numbers[28] ; mat[1,6] = numbers[29] ; mat[2,5] = numbers[30] ; mat[3,4] = numbers[31] ;\n",
    "    mat[4,3] = numbers[32] ; mat[5,2] = numbers[33] ; mat[6,1] = numbers[34] ; mat[7,0] = numbers[35] ;\n",
    "    mat[7,1] = numbers[36] ; mat[6,2] = numbers[37] ; mat[5,3] = numbers[38] ; mat[4,4] = numbers[39] ;\n",
    "    mat[3,5] = numbers[40] ; mat[2,6] = numbers[41] ; mat[1,7] = numbers[42] ; mat[2,7] = numbers[43] ;\n",
    "    mat[3,6] = numbers[44] ; mat[4,5] = numbers[45] ; mat[5,4] = numbers[46] ; mat[6,3] = numbers[47] ;\n",
    "    mat[7,2] = numbers[48] ; mat[7,3] = numbers[49] ; mat[6,4] = numbers[50] ; mat[5,5] = numbers[51] ;\n",
    "    mat[4,6] = numbers[52] ; mat[3,7] = numbers[53] ; mat[4,7] = numbers[54] ; mat[5,6] = numbers[55] ;\n",
    "    mat[6,5] = numbers[56] ; mat[7,4] = numbers[57] ; mat[7,5] = numbers[58] ; mat[6,6] = numbers[59] ;\n",
    "    mat[5,7] = numbers[60] ; mat[6,7] = numbers[61] ; mat[7,6] = numbers[62] ; mat[7,7] = numbers[63] \n",
    "    \n",
    "    return mat"
   ]
  },
  {
   "cell_type": "code",
   "execution_count": 28,
   "metadata": {},
   "outputs": [],
   "source": [
    "# --- saved stream data\n",
    "stream = np.zeros((num,64))\n",
    "for i in range(num):\n",
    "    stream[i,:] = zigzag(quatized_result[i,:,:])"
   ]
  },
  {
   "cell_type": "code",
   "execution_count": 29,
   "metadata": {},
   "outputs": [],
   "source": [
    "# --- seprate DC and AC Values\n",
    "dc = [i[0] for i in stream]\n",
    "ac = [i[1:] for i in stream]"
   ]
  },
  {
   "cell_type": "markdown",
   "metadata": {},
   "source": [
    "### DPCM Coding for DC Values"
   ]
  },
  {
   "cell_type": "code",
   "execution_count": 30,
   "metadata": {},
   "outputs": [],
   "source": [
    "# --- DPCM Coding for DC\n",
    "dc_encoded = [n-dc[i-1] for i,n in enumerate(dc)]\n",
    "dc_encoded[0] = dc[0]"
   ]
  },
  {
   "cell_type": "markdown",
   "metadata": {},
   "source": [
    "### RLC Coding for AC values but seperated for each blocks"
   ]
  },
  {
   "cell_type": "code",
   "execution_count": 31,
   "metadata": {},
   "outputs": [
    {
     "name": "stdout",
     "output_type": "stream",
     "text": [
      "0 1 2 3 4 5 6 7 8 9 10 11 12 13 14 15 16 17 18 19 20 21 22 23 24 25 26 27 28 29 30 31 32 33 34 35 36 37 38 39 40 41 42 43 44 45 46 47 48 49 50 51 52 53 54 55 56 57 58 59 60 61 62 63 64 65 66 67 68 69 70 71 72 73 74 75 76 77 78 79 80 81 82 83 84 85 86 87 88 89 90 91 92 93 94 95 96 97 98 99 100 101 102 103 104 105 106 107 108 109 110 111 112 113 114 115 116 117 118 119 120 121 122 123 124 125 126 127 128 129 130 131 132 133 134 135 136 137 138 139 140 141 142 143 144 145 146 147 148 149 150 151 152 153 154 155 156 157 158 159 160 161 162 163 164 165 166 167 168 169 170 171 172 173 174 175 176 177 178 179 180 181 182 183 184 185 186 187 188 189 190 191 192 193 194 195 196 197 198 199 200 201 202 203 204 205 206 207 208 209 210 211 212 213 214 215 216 217 218 219 220 221 222 223 224 225 226 227 228 229 230 231 232 233 234 235 236 237 238 239 240 241 242 243 244 245 246 247 248 249 250 251 252 253 254 255 "
     ]
    }
   ],
   "source": [
    "# --- AC RLC Coding\n",
    "ac_encoded = []\n",
    "temp_list = []\n",
    "for i in range(np.shape(ac)[0]):\n",
    "    print(i,end=\" \")\n",
    "    temp = 0\n",
    "    # --- for each zero inc 1 temp Variable until recive a non-zero var\n",
    "    # --- for last zero in a 64*64 list we set a zero to show this block is end \n",
    "    for j,n in enumerate(ac[i]):\n",
    "        if n==0:\n",
    "            temp += 1\n",
    "            if (j == np.shape(ac)[1] - 1):\n",
    "                temp_list.append(temp)    \n",
    "                temp_list.append(0)\n",
    "        else:\n",
    "            temp_list.append(temp)\n",
    "            temp_list.append(n)\n",
    "            temp =0\n",
    "    ac_encoded.append(temp_list)\n",
    "    temp_list = []"
   ]
  },
  {
   "cell_type": "markdown",
   "metadata": {},
   "source": [
    "### first Huffman Table and it`s decoder functions"
   ]
  },
  {
   "cell_type": "code",
   "execution_count": 32,
   "metadata": {},
   "outputs": [],
   "source": [
    "# --- huffman table and Decoded\n",
    "def huffTable(num):\n",
    "    if num>0:\n",
    "        return [int(i) for i in bin(num)[2:]]\n",
    "    elif num ==0:\n",
    "        return []\n",
    "    else:\n",
    "        return [(0 if int(i)==1 else 1) for i in bin(abs(num))[2:]]\n",
    "\n",
    "def HuffDec(bits):\n",
    "    flag = 1\n",
    "    result = 0\n",
    "    if bits != []:\n",
    "        if np.size(bits) == 1:\n",
    "            if bits == 0:\n",
    "                result = -1\n",
    "            else:\n",
    "                result = 1\n",
    "        else:\n",
    "            if bits[0] == 0:\n",
    "                bits = [(0 if i==1 else 1) for i in bits]\n",
    "                flag = -1\n",
    "            len = np.shape(bits)[0]\n",
    "            for i,bit in enumerate(bits):\n",
    "                result += bit*(2**(len-1-i))\n",
    "    else:\n",
    "        result = 0\n",
    "            \n",
    "    return flag*result\n",
    "    "
   ]
  },
  {
   "cell_type": "markdown",
   "metadata": {},
   "source": [
    "### Entropy Coding and Decoding Functions"
   ]
  },
  {
   "cell_type": "code",
   "execution_count": 33,
   "metadata": {},
   "outputs": [],
   "source": [
    "# --- entropy by size and Ientropy\n",
    "def entropy(size):\n",
    "    table = [\n",
    "        [0,0],\n",
    "        [0,1,0],\n",
    "        [0,1,1],\n",
    "        [1,0,0],\n",
    "        [1,0,1],\n",
    "        [1,1,0],\n",
    "        [1,1,1,0],\n",
    "        [1,1,1,1,0],\n",
    "        [1,1,1,1,1,0],\n",
    "        [1,1,1,1,1,1,0],\n",
    "        [1,1,1,1,1,1,1,0],\n",
    "        [1,1,1,1,1,1,1,1,0]\n",
    "    ]\n",
    "    return table[size]\n",
    "\n",
    "\n",
    "def iEntropy(bits):\n",
    "    table = [\n",
    "        [0,0],\n",
    "        [0,1,0],\n",
    "        [0,1,1],\n",
    "        [1,0,0],\n",
    "        [1,0,1],\n",
    "        [1,1,0],\n",
    "        [1,1,1,0],\n",
    "        [1,1,1,1,0],\n",
    "        [1,1,1,1,1,0],\n",
    "        [1,1,1,1,1,1,0],\n",
    "        [1,1,1,1,1,1,1,0],\n",
    "        [1,1,1,1,1,1,1,1,0]\n",
    "    ]\n",
    "    if bits in table:\n",
    "        return table.index(bits)\n",
    "    else:\n",
    "        return 12\n",
    "   \n"
   ]
  },
  {
   "cell_type": "markdown",
   "metadata": {},
   "source": [
    "### Entropy coding for DC VAlues that have been coded with DPCM"
   ]
  },
  {
   "cell_type": "code",
   "execution_count": 34,
   "metadata": {},
   "outputs": [],
   "source": [
    "# --- entripy coding for DC Values\n",
    "dc_binary = [entropy(np.shape(huffTable(int(n)))[0])+huffTable(int(n)) for n in dc_encoded]"
   ]
  },
  {
   "cell_type": "markdown",
   "metadata": {},
   "source": [
    "#### testing some Variable"
   ]
  },
  {
   "cell_type": "code",
   "execution_count": 35,
   "metadata": {},
   "outputs": [
    {
     "data": {
      "text/plain": [
       "[[1, 1, 1, 1, 0, 1, 0, 0, 1, 1, 1, 0],\n",
       " [0, 0],\n",
       " [1, 1, 0, 0, 1, 0, 1, 1],\n",
       " [1, 0, 1, 0, 1, 0, 1],\n",
       " [0, 1, 1, 1, 1]]"
      ]
     },
     "execution_count": 35,
     "metadata": {},
     "output_type": "execute_result"
    }
   ],
   "source": [
    "dc_binary[0:5]"
   ]
  },
  {
   "cell_type": "code",
   "execution_count": 36,
   "metadata": {},
   "outputs": [
    {
     "data": {
      "text/plain": [
       "[3, 1.0, 59, 0]"
      ]
     },
     "execution_count": 36,
     "metadata": {},
     "output_type": "execute_result"
    }
   ],
   "source": [
    "ac_encoded[0]"
   ]
  },
  {
   "cell_type": "code",
   "execution_count": 37,
   "metadata": {},
   "outputs": [
    {
     "data": {
      "text/plain": [
       "array([0., 0., 0., 1., 0., 0., 0., 0., 0., 0., 0., 0., 0., 0., 0., 0., 0.,\n",
       "       0., 0., 0., 0., 0., 0., 0., 0., 0., 0., 0., 0., 0., 0., 0., 0., 0.,\n",
       "       0., 0., 0., 0., 0., 0., 0., 0., 0., 0., 0., 0., 0., 0., 0., 0., 0.,\n",
       "       0., 0., 0., 0., 0., 0., 0., 0., 0., 0., 0., 0.])"
      ]
     },
     "execution_count": 37,
     "metadata": {},
     "output_type": "execute_result"
    }
   ],
   "source": [
    "ac[0]"
   ]
  },
  {
   "cell_type": "markdown",
   "metadata": {},
   "source": [
    "### Entropy Coding for AC Values and make an stream data that each block sep with 101010 code"
   ]
  },
  {
   "cell_type": "code",
   "execution_count": 88,
   "metadata": {},
   "outputs": [],
   "source": [
    "# --- ac Entropy coder\n",
    "ac_binary = []\n",
    "for row in ac_encoded:\n",
    "    row = row + [1,0,1,0,1,0,1,0,1,0]\n",
    "    for i,n in enumerate(row):\n",
    "            ac_binary = ac_binary + entropy(np.shape(huffTable(int(n)))[0]) + huffTable(int(n))                                                                        "
   ]
  },
  {
   "cell_type": "code",
   "execution_count": 89,
   "metadata": {},
   "outputs": [
    {
     "name": "stdout",
     "output_type": "stream",
     "text": [
      "0,1,1,1,1,0,1,0,1,1,1,1,0,1,1,1,0,1,1,0,0,0,1,0,1,0,0,0,1,0,1,0,0,0,1,0,1,0,0,0,1,0,1,0,0,0,1,0,1,0,0,0,0,1,0,0,1,0,0,0,0,1,0,0,1,"
     ]
    }
   ],
   "source": [
    "for i in ac_binary[0:65]:\n",
    "    print(i,end=',')"
   ]
  },
  {
   "cell_type": "markdown",
   "metadata": {},
   "source": [
    "### "
   ]
  },
  {
   "cell_type": "markdown",
   "metadata": {},
   "source": [
    "# It`s time to decode all things"
   ]
  },
  {
   "cell_type": "markdown",
   "metadata": {},
   "source": [
    "### Entropy coding Function that uses iEntropy function"
   ]
  },
  {
   "cell_type": "code",
   "execution_count": 90,
   "metadata": {},
   "outputs": [],
   "source": [
    "def entropy_decode(bits):\n",
    "    decode_values = []\n",
    "    flag = False\n",
    "    temp = []\n",
    "    i = 0\n",
    "    while (True):\n",
    "        temp.append(bits[i])\n",
    "        if(iEntropy(temp) != 12):  \n",
    "            shift = iEntropy(temp)\n",
    "            if shift!=1:\n",
    "                data  = HuffDec(bits[i+1:i+shift+1])\n",
    "            else:\n",
    "                data  = HuffDec(bits[i+1])\n",
    "            decode_values.append(data)\n",
    "            i += shift+1\n",
    "            temp = []\n",
    "        else:\n",
    "            i += 1\n",
    "        \n",
    "        if (i == np.shape(bits)[0]):\n",
    "            break\n",
    "    \n",
    "    return decode_values"
   ]
  },
  {
   "cell_type": "code",
   "execution_count": 91,
   "metadata": {},
   "outputs": [
    {
     "data": {
      "text/plain": [
       "[0, -2, 0, 6, 0, 1, 0, 1, 59, 0, 1, 0, 1, 0, 1, 6, 0]"
      ]
     },
     "execution_count": 91,
     "metadata": {},
     "output_type": "execute_result"
    }
   ],
   "source": [
    "entropy_decode([0,0,0,1,1,0,1,0,0,1,0,0,1,1,0,0,0,0,1,0,1,0,0,0,1,0,1,1,1,1,0,1,1,1,0,1,1,0,0,0,1,0,1,0,0,0,1,0,1,0,0,0,1,0,1,1,0,0,1,1,0,0,0,0,1])"
   ]
  },
  {
   "cell_type": "markdown",
   "metadata": {},
   "source": [
    "### Ac Decodeing "
   ]
  },
  {
   "cell_type": "code",
   "execution_count": 92,
   "metadata": {},
   "outputs": [],
   "source": [
    "# --- Decode all Acs\n",
    "temp_decode = entropy_decode(ac_binary)"
   ]
  },
  {
   "cell_type": "markdown",
   "metadata": {},
   "source": [
    "### Seprate each block"
   ]
  },
  {
   "cell_type": "code",
   "execution_count": 94,
   "metadata": {},
   "outputs": [],
   "source": [
    "# --- get each block seprate\n",
    "ac_decode = []\n",
    "temp = []\n",
    "last = 0\n",
    "for i,n in enumerate(temp_decode):\n",
    "    if (n==1 and \n",
    "        (temp_decode[i+1]==0) and (temp_decode[i+2]==1) and \n",
    "        (temp_decode[i+3]==0) and (temp_decode[i+4]==1) and \n",
    "        (temp_decode[i+5]==0) and (temp_decode[i+6]==1) and \n",
    "        (temp_decode[i+7]==0) and (temp_decode[i+8]==1) and\n",
    "        (temp_decode[i+9]==0)):\n",
    "        ac_decode.append(temp_decode[last:i])\n",
    "        last = i+10\n",
    "        if last >= np.shape(temp_decode)[0]:\n",
    "            break"
   ]
  },
  {
   "cell_type": "code",
   "execution_count": 95,
   "metadata": {},
   "outputs": [
    {
     "data": {
      "text/plain": [
       "array([ 0, -1,  3,  4,  0, -3,  7,  1, 49,  0])"
      ]
     },
     "execution_count": 95,
     "metadata": {},
     "output_type": "execute_result"
    }
   ],
   "source": [
    "np.int_(ac_encoded[7])"
   ]
  },
  {
   "cell_type": "code",
   "execution_count": 107,
   "metadata": {},
   "outputs": [
    {
     "data": {
      "text/plain": [
       "True"
      ]
     },
     "execution_count": 107,
     "metadata": {},
     "output_type": "execute_result"
    }
   ],
   "source": [
    "ac_decode == ac_encoded"
   ]
  },
  {
   "cell_type": "code",
   "execution_count": null,
   "metadata": {},
   "outputs": [],
   "source": [
    "# --- testing witch block has been completly damage\n",
    "for i in range(np.shape(ac_decode)[0]):\n",
    "    if(ac_decode[i] != ac_encoded[i]):\n",
    "        print(i)"
   ]
  },
  {
   "cell_type": "markdown",
   "metadata": {},
   "source": [
    "### DC Decoding"
   ]
  },
  {
   "cell_type": "code",
   "execution_count": 98,
   "metadata": {},
   "outputs": [],
   "source": [
    "dc_decode = []\n",
    "for bits in dc_binary:\n",
    "    temp = entropy_decode(bits)\n",
    "    dc_decode.append(temp)\n",
    "\n",
    "dc_final = [0]\n",
    "for i,n in enumerate(dc_decode):\n",
    "    if i==0:\n",
    "        dc_final[i] = (dc_decode[i][0])\n",
    "    else:\n",
    "        dc_final.append(dc_decode[i][0] + dc_final[i-1])\n"
   ]
  },
  {
   "cell_type": "code",
   "execution_count": 99,
   "metadata": {},
   "outputs": [
    {
     "data": {
      "text/plain": [
       "True"
      ]
     },
     "execution_count": 99,
     "metadata": {},
     "output_type": "execute_result"
    }
   ],
   "source": [
    "dc_final == dc"
   ]
  },
  {
   "cell_type": "markdown",
   "metadata": {},
   "source": [
    "### for each block make 8*8 matrix with izigzag"
   ]
  },
  {
   "cell_type": "code",
   "execution_count": 100,
   "metadata": {},
   "outputs": [],
   "source": [
    "# --- make all 8*8 together\n",
    "# ac_encoded\n",
    "final_blocks = np.zeros((num, 8, 8))\n",
    "for i in range(num):\n",
    "    temp = []\n",
    "    for j,n in enumerate(ac_encoded[i]):\n",
    "        if j==(np.shape(ac_encoded[i])[0]-1) and n==0:\n",
    "            pass\n",
    "        elif j%2==0:\n",
    "            for k in range(n):\n",
    "                temp.append(0)\n",
    "        else:\n",
    "            temp.append(n)\n",
    "    final_blocks[i,:,:] = izigzag([0]+temp)\n",
    "    final_blocks[i,0,0] = dc_final[i]"
   ]
  },
  {
   "cell_type": "code",
   "execution_count": 101,
   "metadata": {},
   "outputs": [
    {
     "data": {
      "text/plain": [
       "array([[34., -5.,  1., -1.,  0.,  2.,  0.,  0.],\n",
       "       [-4.,  0., -1.,  2.,  0.,  0.,  0.,  0.],\n",
       "       [-2.,  3., -2.,  0.,  0.,  0.,  0.,  0.],\n",
       "       [-1., -1.,  0.,  0.,  0.,  0.,  0.,  0.],\n",
       "       [ 0.,  0.,  0.,  0.,  0.,  0.,  0.,  0.],\n",
       "       [ 0.,  0.,  0.,  0.,  0.,  0.,  0.,  0.],\n",
       "       [ 0.,  0.,  0.,  0.,  0.,  0.,  0.,  0.],\n",
       "       [ 0.,  0.,  0.,  0.,  0.,  0.,  0.,  0.]])"
      ]
     },
     "execution_count": 101,
     "metadata": {},
     "output_type": "execute_result"
    }
   ],
   "source": [
    "final_blocks[63]"
   ]
  },
  {
   "cell_type": "code",
   "execution_count": 102,
   "metadata": {},
   "outputs": [
    {
     "data": {
      "text/plain": [
       "array([[[ True,  True,  True, ...,  True,  True,  True],\n",
       "        [ True,  True,  True, ...,  True,  True,  True],\n",
       "        [ True,  True,  True, ...,  True,  True,  True],\n",
       "        ...,\n",
       "        [ True,  True,  True, ...,  True,  True,  True],\n",
       "        [ True,  True,  True, ...,  True,  True,  True],\n",
       "        [ True,  True,  True, ...,  True,  True,  True]],\n",
       "\n",
       "       [[ True,  True,  True, ...,  True,  True,  True],\n",
       "        [ True,  True,  True, ...,  True,  True,  True],\n",
       "        [ True,  True,  True, ...,  True,  True,  True],\n",
       "        ...,\n",
       "        [ True,  True,  True, ...,  True,  True,  True],\n",
       "        [ True,  True,  True, ...,  True,  True,  True],\n",
       "        [ True,  True,  True, ...,  True,  True,  True]],\n",
       "\n",
       "       [[ True,  True,  True, ...,  True,  True,  True],\n",
       "        [ True,  True,  True, ...,  True,  True,  True],\n",
       "        [ True,  True,  True, ...,  True,  True,  True],\n",
       "        ...,\n",
       "        [ True,  True,  True, ...,  True,  True,  True],\n",
       "        [ True,  True,  True, ...,  True,  True,  True],\n",
       "        [ True,  True,  True, ...,  True,  True,  True]],\n",
       "\n",
       "       ...,\n",
       "\n",
       "       [[ True,  True,  True, ...,  True,  True,  True],\n",
       "        [ True,  True,  True, ...,  True,  True,  True],\n",
       "        [ True,  True,  True, ...,  True,  True,  True],\n",
       "        ...,\n",
       "        [ True,  True,  True, ...,  True,  True,  True],\n",
       "        [ True,  True,  True, ...,  True,  True,  True],\n",
       "        [ True,  True,  True, ...,  True,  True,  True]],\n",
       "\n",
       "       [[ True,  True,  True, ...,  True,  True,  True],\n",
       "        [ True,  True,  True, ...,  True,  True,  True],\n",
       "        [ True,  True,  True, ...,  True,  True,  True],\n",
       "        ...,\n",
       "        [ True,  True,  True, ...,  True,  True,  True],\n",
       "        [ True,  True,  True, ...,  True,  True,  True],\n",
       "        [ True,  True,  True, ...,  True,  True,  True]],\n",
       "\n",
       "       [[ True,  True,  True, ...,  True,  True,  True],\n",
       "        [ True,  True,  True, ...,  True,  True,  True],\n",
       "        [ True,  True,  True, ...,  True,  True,  True],\n",
       "        ...,\n",
       "        [ True,  True,  True, ...,  True,  True,  True],\n",
       "        [ True,  True,  True, ...,  True,  True,  True],\n",
       "        [ True,  True,  True, ...,  True,  True,  True]]])"
      ]
     },
     "execution_count": 102,
     "metadata": {},
     "output_type": "execute_result"
    }
   ],
   "source": [
    "(final_blocks == quatized_result)"
   ]
  },
  {
   "cell_type": "code",
   "execution_count": 51,
   "metadata": {},
   "outputs": [
    {
     "data": {
      "text/plain": [
       "array([[34., -5.,  1., -1.,  0.,  2.,  0.,  0.],\n",
       "       [-4.,  0., -1.,  2.,  0.,  0.,  0.,  0.],\n",
       "       [-2.,  3., -2.,  0.,  0.,  0.,  0.,  0.],\n",
       "       [-1., -1.,  0.,  0.,  0.,  0.,  0.,  0.],\n",
       "       [ 0.,  0.,  0.,  0.,  0.,  0.,  0.,  0.],\n",
       "       [ 0.,  0.,  0.,  0.,  0.,  0.,  0.,  0.],\n",
       "       [ 0.,  0.,  0.,  0.,  0.,  0.,  0.,  0.],\n",
       "       [ 0.,  0.,  0.,  0.,  0.,  0.,  0.,  0.]])"
      ]
     },
     "execution_count": 51,
     "metadata": {},
     "output_type": "execute_result"
    }
   ],
   "source": [
    "quatized_result[63]"
   ]
  },
  {
   "cell_type": "code",
   "execution_count": 103,
   "metadata": {},
   "outputs": [
    {
     "data": {
      "text/plain": [
       "[3, 1.0, 59, 0]"
      ]
     },
     "execution_count": 103,
     "metadata": {},
     "output_type": "execute_result"
    }
   ],
   "source": [
    "ac_encoded[0]"
   ]
  },
  {
   "cell_type": "markdown",
   "metadata": {},
   "source": [
    "###  Inverse Quatize and IDCT"
   ]
  },
  {
   "cell_type": "code",
   "execution_count": 104,
   "metadata": {},
   "outputs": [],
   "source": [
    "Iblocks = np.zeros((num,8,8))\n",
    "for i in range(num):\n",
    "    Iblocks[i,:,:] = final_blocks[i,:,:] * Coeff\n",
    "    Iblocks[i,:,:] = cv2.idct(Iblocks[i,:,:])"
   ]
  },
  {
   "cell_type": "markdown",
   "metadata": {},
   "source": [
    "### Make all things together"
   ]
  },
  {
   "cell_type": "code",
   "execution_count": 105,
   "metadata": {},
   "outputs": [],
   "source": [
    "# --- \n",
    "picture = np.zeros((rows,cols))\n",
    "for i in range(int(cols/8)):\n",
    "    for j in range(int(rows/8)):\n",
    "        picture[j+j*7:j+j*7+7+1,i+i*7:i+i*7+7+1] = Iblocks[i*int(rows/8)+j ,:,:]"
   ]
  },
  {
   "cell_type": "markdown",
   "metadata": {},
   "source": [
    "### Saving this pictures"
   ]
  },
  {
   "cell_type": "code",
   "execution_count": 106,
   "metadata": {},
   "outputs": [
    {
     "data": {
      "image/png": "[encoded data removed]",
      "text/plain": [
       "<Figure size 432x288 with 1 Axes>"
      ]
     },
     "metadata": {
      "needs_background": "light"
     },
     "output_type": "display_data"
    }
   ],
   "source": [
    "temp = cv2.cvtColor(np.uint8(picture),cv2.COLOR_GRAY2RGB)\n",
    "# temp = cv2.resize(temp,(512,512))\n",
    "cv2.imwrite(\"output.png\",temp)\n",
    "cv2.imwrite(\"y.png\",y)\n",
    "plt.imshow(temp)\n",
    "plt.show()\n",
    "# plt.title('my picture')\n",
    "# plt.show()"
   ]
  },
  {
   "cell_type": "code",
   "execution_count": null,
   "metadata": {},
   "outputs": [],
   "source": []
  },
  {
   "cell_type": "code",
   "execution_count": null,
   "metadata": {},
   "outputs": [],
   "source": []
  },
  {
   "cell_type": "code",
   "execution_count": null,
   "metadata": {},
   "outputs": [],
   "source": []
  }
 ],
 "metadata": {
  "kernelspec": {
   "display_name": "Python 3",
   "language": "python",
   "name": "python3"
  },
  "language_info": {
   "codemirror_mode": {
    "name": "ipython",
    "version": 3
   },
   "file_extension": ".py",
   "mimetype": "text/x-python",
   "name": "python",
   "nbconvert_exporter": "python",
   "pygments_lexer": "ipython3",
   "version": "3.8.3"
  }
 },
 "nbformat": 4,
 "nbformat_minor": 4
}
